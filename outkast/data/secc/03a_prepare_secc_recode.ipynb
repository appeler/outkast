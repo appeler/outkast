{
 "cells": [
  {
   "cell_type": "code",
   "execution_count": null,
   "metadata": {},
   "outputs": [],
   "source": [
    "import pandas as pd\n",
    "import gc"
   ]
  },
  {
   "cell_type": "markdown",
   "metadata": {},
   "source": [
    "#### Prepare state <=> numeric mapping"
   ]
  },
  {
   "cell_type": "code",
   "execution_count": null,
   "metadata": {},
   "outputs": [],
   "source": [
    "df = pd.read_csv('/opt/data/secc/secc_state_name_age_sex_social_cat.csv.gz', usecols=['state'])\n",
    "df"
   ]
  },
  {
   "cell_type": "code",
   "execution_count": null,
   "metadata": {},
   "outputs": [],
   "source": [
    "sdf = df.groupby(['state']).agg({'state': 'count'})"
   ]
  },
  {
   "cell_type": "code",
   "execution_count": null,
   "metadata": {},
   "outputs": [],
   "source": [
    "sdf.rename(columns={'state': 'count'}, inplace=True)\n",
    "sdf.reset_index(inplace=True)"
   ]
  },
  {
   "cell_type": "code",
   "execution_count": null,
   "metadata": {},
   "outputs": [],
   "source": [
    "cat = sdf.state.astype('category').cat"
   ]
  },
  {
   "cell_type": "code",
   "execution_count": null,
   "metadata": {},
   "outputs": [],
   "source": [
    "states_map = dict(zip(cat.categories, cat.codes))"
   ]
  },
  {
   "cell_type": "code",
   "execution_count": null,
   "metadata": {},
   "outputs": [],
   "source": [
    "pd.DataFrame.from_dict(states_map, orient='index', columns=['code']).to_csv('secc_state.csv', index_label='state')"
   ]
  },
  {
   "cell_type": "code",
   "execution_count": null,
   "metadata": {},
   "outputs": [],
   "source": [
    "d = pd.read_csv('secc_state.csv').to_dict(orient='list')\n",
    "states_map = dict(zip(d['state'], d['code']))\n",
    "states_map"
   ]
  },
  {
   "cell_type": "code",
   "execution_count": null,
   "metadata": {},
   "outputs": [],
   "source": [
    "social_cats_map = {'st': 't', 'sc': 'c', 'other': 'o'}"
   ]
  },
  {
   "cell_type": "code",
   "execution_count": null,
   "metadata": {},
   "outputs": [],
   "source": [
    "adf = None\n",
    "count = 0\n",
    "for df in pd.read_csv('/opt/data/secc/secc_state_name_age_sex_social_cat.csv.gz', usecols=['state', 'name', 'social_cat', 'age', 'gender'], dtype=str, chunksize=1000000):\n",
    "    count += 1\n",
    "    print(count)\n",
    "    df.dropna(subset=['name'], inplace=True)\n",
    "    df.dropna(subset=['age'], inplace=True)\n",
    "    df.drop(df[~df.age.str.contains('^[0-9\\.]+$')].index, inplace=True)\n",
    "    df['birth_year'] = 2011 - df.age.astype(float)\n",
    "    df.birth_year = df.birth_year.astype(int)\n",
    "    df.state = df.state.apply(lambda c: states_map[c])\n",
    "    df.social_cat = df.social_cat.apply(lambda c: social_cats_map[c])\n",
    "    df.name = df.name.str.replace('_', ' ')\n",
    "    df.name = df.name.str.strip()\n",
    "    df.drop(df[df.name==' '].index, inplace=True)\n",
    "    df.drop(df[df.name==''].index, inplace=True)\n",
    "    df['name_wc'] = df.name.apply(lambda c: len(c.split()))\n",
    "    df['last_name'] = None\n",
    "    df.loc[df.name_wc >= 2, 'last_name'] = df.name.apply(lambda c: c.split()[-1])\n",
    "    df.loc[df.last_name.notnull() & (df.last_name.str.len() <= 2), 'last_name'] = None\n",
    "    del df['name']\n",
    "    del df['name_wc']\n",
    "    del df['age']\n",
    "    if adf is None:\n",
    "        adf = df\n",
    "    else:\n",
    "        adf = pd.concat([adf, df])\n",
    "    del df\n",
    "    gc.collect()\n",
    "    #if count > 15:\n",
    "    #    break"
   ]
  },
  {
   "cell_type": "code",
   "execution_count": null,
   "metadata": {},
   "outputs": [],
   "source": [
    "adf.to_csv('/opt/data/secc/secc_state_name_age_sex_social_cat_recode.csv.gz', index=False)"
   ]
  }
 ],
 "metadata": {
  "kernelspec": {
   "display_name": "Python 3",
   "language": "python",
   "name": "python3"
  },
  "language_info": {
   "codemirror_mode": {
    "name": "ipython",
    "version": 3
   },
   "file_extension": ".py",
   "mimetype": "text/x-python",
   "name": "python",
   "nbconvert_exporter": "python",
   "pygments_lexer": "ipython3",
   "version": "3.5.2"
  }
 },
 "nbformat": 4,
 "nbformat_minor": 2
}
