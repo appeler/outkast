{
 "cells": [
  {
   "cell_type": "markdown",
   "metadata": {},
   "source": [
    "### Clean and recode SECC data"
   ]
  },
  {
   "cell_type": "code",
   "execution_count": 1,
   "metadata": {},
   "outputs": [],
   "source": [
    "import pandas as pd\n",
    "import gc"
   ]
  },
  {
   "cell_type": "markdown",
   "metadata": {},
   "source": [
    "#### Prepare state <=> numeric mapping"
   ]
  },
  {
   "cell_type": "code",
   "execution_count": 2,
   "metadata": {},
   "outputs": [
    {
     "data": {
      "text/html": [
       "<div>\n",
       "<style scoped>\n",
       "    .dataframe tbody tr th:only-of-type {\n",
       "        vertical-align: middle;\n",
       "    }\n",
       "\n",
       "    .dataframe tbody tr th {\n",
       "        vertical-align: top;\n",
       "    }\n",
       "\n",
       "    .dataframe thead th {\n",
       "        text-align: right;\n",
       "    }\n",
       "</style>\n",
       "<table border=\"1\" class=\"dataframe\">\n",
       "  <thead>\n",
       "    <tr style=\"text-align: right;\">\n",
       "      <th></th>\n",
       "      <th>state</th>\n",
       "    </tr>\n",
       "  </thead>\n",
       "  <tbody>\n",
       "    <tr>\n",
       "      <th>0</th>\n",
       "      <td>ARUNACHAL PRADESH</td>\n",
       "    </tr>\n",
       "    <tr>\n",
       "      <th>1</th>\n",
       "      <td>ARUNACHAL PRADESH</td>\n",
       "    </tr>\n",
       "    <tr>\n",
       "      <th>2</th>\n",
       "      <td>ARUNACHAL PRADESH</td>\n",
       "    </tr>\n",
       "    <tr>\n",
       "      <th>3</th>\n",
       "      <td>ARUNACHAL PRADESH</td>\n",
       "    </tr>\n",
       "    <tr>\n",
       "      <th>4</th>\n",
       "      <td>ARUNACHAL PRADESH</td>\n",
       "    </tr>\n",
       "    <tr>\n",
       "      <th>...</th>\n",
       "      <td>...</td>\n",
       "    </tr>\n",
       "    <tr>\n",
       "      <th>140198227</th>\n",
       "      <td>WEST BENGAL</td>\n",
       "    </tr>\n",
       "    <tr>\n",
       "      <th>140198228</th>\n",
       "      <td>WEST BENGAL</td>\n",
       "    </tr>\n",
       "    <tr>\n",
       "      <th>140198229</th>\n",
       "      <td>WEST BENGAL</td>\n",
       "    </tr>\n",
       "    <tr>\n",
       "      <th>140198230</th>\n",
       "      <td>WEST BENGAL</td>\n",
       "    </tr>\n",
       "    <tr>\n",
       "      <th>140198231</th>\n",
       "      <td>WEST BENGAL</td>\n",
       "    </tr>\n",
       "  </tbody>\n",
       "</table>\n",
       "<p>140198232 rows × 1 columns</p>\n",
       "</div>"
      ],
      "text/plain": [
       "                       state\n",
       "0          ARUNACHAL PRADESH\n",
       "1          ARUNACHAL PRADESH\n",
       "2          ARUNACHAL PRADESH\n",
       "3          ARUNACHAL PRADESH\n",
       "4          ARUNACHAL PRADESH\n",
       "...                      ...\n",
       "140198227        WEST BENGAL\n",
       "140198228        WEST BENGAL\n",
       "140198229        WEST BENGAL\n",
       "140198230        WEST BENGAL\n",
       "140198231        WEST BENGAL\n",
       "\n",
       "[140198232 rows x 1 columns]"
      ]
     },
     "execution_count": 2,
     "metadata": {},
     "output_type": "execute_result"
    }
   ],
   "source": [
    "df = pd.read_csv('/opt/data/secc/v2/secc_deduped.csv.gz', usecols=['state'])\n",
    "df"
   ]
  },
  {
   "cell_type": "code",
   "execution_count": 3,
   "metadata": {},
   "outputs": [],
   "source": [
    "df.state = df.state.str.lower()"
   ]
  },
  {
   "cell_type": "code",
   "execution_count": 4,
   "metadata": {},
   "outputs": [],
   "source": [
    "sdf = df.groupby(['state']).agg({'state': 'count'})"
   ]
  },
  {
   "cell_type": "code",
   "execution_count": 5,
   "metadata": {},
   "outputs": [],
   "source": [
    "sdf.rename(columns={'state': 'count'}, inplace=True)\n",
    "sdf.reset_index(inplace=True)"
   ]
  },
  {
   "cell_type": "code",
   "execution_count": 6,
   "metadata": {},
   "outputs": [],
   "source": [
    "cat = sdf.state.astype('category').cat"
   ]
  },
  {
   "cell_type": "code",
   "execution_count": 7,
   "metadata": {},
   "outputs": [],
   "source": [
    "states_map = dict(zip(cat.categories, cat.codes))"
   ]
  },
  {
   "cell_type": "code",
   "execution_count": 8,
   "metadata": {},
   "outputs": [],
   "source": [
    "pd.DataFrame.from_dict(states_map, orient='index', columns=['code']).to_csv('secc_state.csv', index_label='state')"
   ]
  },
  {
   "cell_type": "code",
   "execution_count": 9,
   "metadata": {},
   "outputs": [
    {
     "data": {
      "text/plain": [
       "{'arunachal pradesh': 0,\n",
       " 'assam': 1,\n",
       " 'bihar': 2,\n",
       " 'chhattisgarh': 3,\n",
       " 'gujarat': 4,\n",
       " 'haryana': 5,\n",
       " 'kerala': 6,\n",
       " 'madhya pradesh': 7,\n",
       " 'maharashtra': 8,\n",
       " 'mizoram': 9,\n",
       " 'nagaland': 10,\n",
       " 'odisha': 11,\n",
       " 'punjab': 12,\n",
       " 'rajasthan': 13,\n",
       " 'sikkim': 14,\n",
       " 'tamilnadu': 15,\n",
       " 'uttar pradesh': 16,\n",
       " 'uttarakhand': 17,\n",
       " 'west bengal': 18}"
      ]
     },
     "execution_count": 9,
     "metadata": {},
     "output_type": "execute_result"
    }
   ],
   "source": [
    "d = pd.read_csv('secc_state.csv').to_dict(orient='list')\n",
    "states_map = dict(zip(d['state'], d['code']))\n",
    "states_map"
   ]
  },
  {
   "cell_type": "code",
   "execution_count": 10,
   "metadata": {},
   "outputs": [],
   "source": [
    "social_cats_map = {'st': 't', 'sc': 'c', 'other': 'o'}"
   ]
  },
  {
   "cell_type": "code",
   "execution_count": 15,
   "metadata": {},
   "outputs": [
    {
     "name": "stdout",
     "output_type": "stream",
     "text": [
      "1\n",
      "2\n",
      "3\n",
      "4\n",
      "5\n",
      "6\n",
      "7\n",
      "8\n",
      "9\n",
      "10\n",
      "11\n",
      "12\n",
      "13\n",
      "14\n",
      "15\n",
      "16\n",
      "17\n",
      "18\n",
      "19\n",
      "20\n",
      "21\n",
      "22\n",
      "23\n",
      "24\n",
      "25\n",
      "26\n",
      "27\n",
      "28\n",
      "29\n",
      "30\n",
      "31\n",
      "32\n",
      "33\n",
      "34\n",
      "35\n",
      "36\n",
      "37\n",
      "38\n",
      "39\n",
      "40\n",
      "41\n",
      "42\n",
      "43\n",
      "44\n",
      "45\n",
      "46\n",
      "47\n",
      "48\n",
      "49\n",
      "50\n",
      "51\n",
      "52\n",
      "53\n",
      "54\n",
      "55\n",
      "56\n",
      "57\n",
      "58\n",
      "59\n",
      "60\n",
      "61\n",
      "62\n",
      "63\n",
      "64\n",
      "65\n",
      "66\n",
      "67\n",
      "68\n",
      "69\n",
      "70\n",
      "71\n",
      "72\n",
      "73\n",
      "74\n",
      "75\n",
      "76\n",
      "77\n",
      "78\n",
      "79\n",
      "80\n",
      "81\n",
      "82\n",
      "83\n",
      "84\n",
      "85\n",
      "86\n",
      "87\n",
      "88\n",
      "89\n",
      "90\n",
      "91\n",
      "92\n",
      "93\n",
      "94\n",
      "95\n",
      "96\n",
      "97\n",
      "98\n",
      "99\n",
      "100\n",
      "101\n",
      "102\n",
      "103\n",
      "104\n",
      "105\n",
      "106\n",
      "107\n",
      "108\n",
      "109\n",
      "110\n",
      "111\n",
      "112\n",
      "113\n",
      "114\n",
      "115\n",
      "116\n",
      "117\n",
      "118\n",
      "119\n",
      "120\n",
      "121\n",
      "122\n",
      "123\n",
      "124\n",
      "125\n",
      "126\n",
      "127\n",
      "128\n",
      "129\n",
      "130\n",
      "131\n",
      "132\n",
      "133\n",
      "134\n",
      "135\n",
      "136\n",
      "137\n",
      "138\n",
      "139\n",
      "140\n",
      "141\n"
     ]
    }
   ],
   "source": [
    "header = True\n",
    "count = 0\n",
    "for df in pd.read_csv('/opt/data/secc/v2/secc_deduped.csv.gz', usecols=['state', 'head_of_hh', 'social_cat', 'age', 'gender'], dtype=str, chunksize=1000000):\n",
    "    count += 1\n",
    "    print(count)\n",
    "    df.state = df.state.str.lower()\n",
    "    df.gender = df.gender.str.lower()\n",
    "    df.social_cat = df.social_cat.str.lower()\n",
    "    df['name'] = df.head_of_hh.str.split('\\\\').str[0]\n",
    "    del df['head_of_hh']\n",
    "    df.name = df.name.str.lower()\n",
    "    df.dropna(subset=['age'], inplace=True)\n",
    "    df.drop(df[~df.age.str.contains('^[0-9\\.]+$')].index, inplace=True)\n",
    "    df['birth_year'] = 2011 - df.age.astype(float)\n",
    "    df.birth_year = df.birth_year.astype(int)\n",
    "    df.state = df.state.apply(lambda c: states_map[c])\n",
    "    df.social_cat = df.social_cat.apply(lambda c: social_cats_map[c])\n",
    "    df.name = df.name.str.replace('_', ' ')\n",
    "    df.name = df.name.str.strip()\n",
    "    df.drop(df[df.name==' '].index, inplace=True)\n",
    "    df.drop(df[df.name==''].index, inplace=True)\n",
    "    #df.drop(df[~df.name.str.isalpha()].index, inplace=True)\n",
    "    df['name_wc'] = df.name.apply(lambda c: len(c.split()))\n",
    "    df['last_name'] = None\n",
    "    df.loc[df.name_wc >= 2, 'last_name'] = df.name.apply(lambda c: c.split()[-1])\n",
    "    #df.loc[df.last_name.notnull() & (df.last_name.str.len() <= 2), 'last_name'] = None\n",
    "    del df['name']\n",
    "    del df['name_wc']\n",
    "    del df['age']\n",
    "    df.to_csv('/opt/data/secc/v2/secc_state_ln_sex_social_cat_birthyear_recode.csv', mode='a', header=header, index=False)\n",
    "    header = False"
   ]
  },
  {
   "cell_type": "code",
   "execution_count": 16,
   "metadata": {},
   "outputs": [],
   "source": [
    "!gzip /opt/data/secc/v2/secc_state_ln_sex_social_cat_birthyear_recode.csv"
   ]
  },
  {
   "cell_type": "code",
   "execution_count": null,
   "metadata": {},
   "outputs": [],
   "source": []
  }
 ],
 "metadata": {
  "kernelspec": {
   "display_name": "Python 3",
   "language": "python",
   "name": "python3"
  },
  "language_info": {
   "codemirror_mode": {
    "name": "ipython",
    "version": 3
   },
   "file_extension": ".py",
   "mimetype": "text/x-python",
   "name": "python",
   "nbconvert_exporter": "python",
   "pygments_lexer": "ipython3",
   "version": "3.7.8"
  }
 },
 "nbformat": 4,
 "nbformat_minor": 2
}
