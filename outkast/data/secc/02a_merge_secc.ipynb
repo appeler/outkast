{
 "cells": [
  {
   "cell_type": "code",
   "execution_count": null,
   "metadata": {},
   "outputs": [],
   "source": [
    "import pandas as pd\n",
    "from glob import glob\n",
    "import libarchive # `pip install libarchive-c` and using with libarchive 3.4.x\n",
    "from io import BytesIO"
   ]
  },
  {
   "cell_type": "code",
   "execution_count": null,
   "metadata": {},
   "outputs": [],
   "source": [
    "total_size = 0\n",
    "header = True\n",
    "for fn in sorted(glob('secc/secc*.7z')):\n",
    "    print(fn)\n",
    "    with libarchive.file_reader(fn) as e:\n",
    "        for entry in e:\n",
    "            total_size += entry.size\n",
    "            print(total_size / (1024*1024))\n",
    "            with BytesIO() as f:\n",
    "                for i, block in enumerate(entry.get_blocks()):\n",
    "                    f.write(block)\n",
    "                f.seek(0)\n",
    "                #df = pd.read_csv(f, nrows=10)\n",
    "                df = pd.read_csv(f, usecols=['state', 'head_of_hh', 'gender', 'age', 'social_cat'])\n",
    "        \n",
    "    df.dropna(subset=['head_of_hh'], inplace=True)\n",
    "    df.state = df.state.str.lower()\n",
    "    df.gender = df.gender.str.lower()\n",
    "    df.social_cat = df.social_cat.str.lower()\n",
    "    df['name'] = df.head_of_hh.str.split('\\\\').str[0]\n",
    "    df.name = df.name.str.lower()\n",
    "    del df['head_of_hh']\n",
    "    df.to_csv('/opt/data/secc/secc_state_name_age_sex_social_cat.csv', mode='a', header=header, index=False)\n",
    "    header = False"
   ]
  },
  {
   "cell_type": "code",
   "execution_count": null,
   "metadata": {},
   "outputs": [],
   "source": []
  }
 ],
 "metadata": {
  "kernelspec": {
   "display_name": "Python 3",
   "language": "python",
   "name": "python3"
  },
  "language_info": {
   "codemirror_mode": {
    "name": "ipython",
    "version": 3
   },
   "file_extension": ".py",
   "mimetype": "text/x-python",
   "name": "python",
   "nbconvert_exporter": "python",
   "pygments_lexer": "ipython3",
   "version": "3.5.2"
  }
 },
 "nbformat": 4,
 "nbformat_minor": 2
}
